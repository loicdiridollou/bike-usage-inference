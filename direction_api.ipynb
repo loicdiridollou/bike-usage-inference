{
 "cells": [
  {
   "cell_type": "code",
   "execution_count": 1,
   "id": "c6a4440b",
   "metadata": {},
   "outputs": [],
   "source": [
    "import yaml\n",
    "import requests"
   ]
  },
  {
   "cell_type": "code",
   "execution_count": 2,
   "id": "d853a951",
   "metadata": {},
   "outputs": [],
   "source": [
    "API_KEY = yaml.full_load(open('creds.yaml', 'r'))['maps_api']"
   ]
  },
  {
   "cell_type": "code",
   "execution_count": 7,
   "id": "f6a4bd33",
   "metadata": {},
   "outputs": [],
   "source": [
    "req = requests.get(\"https://maps.googleapis.com/maps/api/directions/json?avoid=highways&destination=37.776311,-122.394495&mode=bicycling&origin=37.794246,-122.402855&key={}\".format(API_KEY))"
   ]
  },
  {
   "cell_type": "code",
   "execution_count": 8,
   "id": "601eea76",
   "metadata": {
    "scrolled": false
   },
   "outputs": [
    {
     "data": {
      "text/plain": [
       "{'geocoded_waypoints': [{'geocoder_status': 'OK',\n",
       "   'place_id': 'ChIJAyk-84qAhYARoYww6NIvE6A',\n",
       "   'types': ['establishment', 'point_of_interest']},\n",
       "  {'geocoder_status': 'OK',\n",
       "   'place_id': 'ChIJiZsGldZ_j4ARSAUO2zvLtxM',\n",
       "   'types': ['establishment', 'point_of_interest']}],\n",
       " 'routes': [{'bounds': {'northeast': {'lat': 37.7948569, 'lng': -122.3905427},\n",
       "    'southwest': {'lat': 37.7762881, 'lng': -122.4028591}},\n",
       "   'copyrights': 'Map data ©2022 Google',\n",
       "   'legs': [{'distance': {'text': '1.8 mi', 'value': 2899},\n",
       "     'duration': {'text': '15 mins', 'value': 882},\n",
       "     'end_address': 'San Francisco Caltrain Station (King St at 4th St), San Francisco, CA 94107, USA',\n",
       "     'end_location': {'lat': 37.7762881, 'lng': -122.3945237},\n",
       "     'start_address': 'Commercial St at Montgomery St, San Francisco, CA 94111, USA',\n",
       "     'start_location': {'lat': 37.7942627, 'lng': -122.4028591},\n",
       "     'steps': [{'distance': {'text': '167 ft', 'value': 51},\n",
       "       'duration': {'text': '1 min', 'value': 45},\n",
       "       'end_location': {'lat': 37.7943374, 'lng': -122.4022919},\n",
       "       'html_instructions': 'Head <b>east</b> on <b>Commercial St</b> toward <b>Leidesdorff St</b><div style=\"font-size:0.9em\">Walk your bicycle</div>',\n",
       "       'polyline': {'points': 'cuteFzxajVE_@IqA'},\n",
       "       'start_location': {'lat': 37.7942627, 'lng': -122.4028591},\n",
       "       'travel_mode': 'BICYCLING'},\n",
       "      {'distance': {'text': '161 ft', 'value': 49},\n",
       "       'duration': {'text': '1 min', 'value': 23},\n",
       "       'end_location': {'lat': 37.7947692, 'lng': -122.4023734},\n",
       "       'html_instructions': 'Turn <b>left</b> onto <b>Leidesdorff St</b><div style=\"font-size:0.9em\">Closed Mon–Fri 10:00 AM – 3:00 PM</div>',\n",
       "       'maneuver': 'turn-left',\n",
       "       'polyline': {'points': 'suteFhuajVuAN'},\n",
       "       'start_location': {'lat': 37.7943374, 'lng': -122.4022919},\n",
       "       'travel_mode': 'BICYCLING'},\n",
       "      {'distance': {'text': '249 ft', 'value': 76},\n",
       "       'duration': {'text': '1 min', 'value': 12},\n",
       "       'end_location': {'lat': 37.7948569, 'lng': -122.401515},\n",
       "       'html_instructions': 'Turn <b>right</b> onto <b>Clay St</b>/<wbr/><b>San Francisco Bicycle Rte 11</b>',\n",
       "       'maneuver': 'turn-right',\n",
       "       'polyline': {'points': 'ixteFxuajVAGA[Cg@Cm@Eq@'},\n",
       "       'start_location': {'lat': 37.7947692, 'lng': -122.4023734},\n",
       "       'travel_mode': 'BICYCLING'},\n",
       "      {'distance': {'text': '0.3 mi', 'value': 518},\n",
       "       'duration': {'text': '3 mins', 'value': 176},\n",
       "       'end_location': {'lat': 37.7902545, 'lng': -122.400585},\n",
       "       'html_instructions': 'Turn <b>right</b> onto <b>San Francisco Bicycle Rte 11</b>/<wbr/><b>Sansome St</b><div style=\"font-size:0.9em\">Pass by Planet Fitness (on the right)</div>',\n",
       "       'maneuver': 'turn-right',\n",
       "       'polyline': {'points': '{xteFlpajVrAMhAMPErAO~AQ`BUVCZEh@IJ?lDc@rBWD?`AO'},\n",
       "       'start_location': {'lat': 37.7948569, 'lng': -122.401515},\n",
       "       'travel_mode': 'BICYCLING'},\n",
       "      {'distance': {'text': '39 ft', 'value': 12},\n",
       "       'duration': {'text': '1 min', 'value': 3},\n",
       "       'end_location': {'lat': 37.7902867, 'lng': -122.4004529},\n",
       "       'html_instructions': 'Turn <b>left</b> onto <b>San Francisco Bicycle Rte 11</b>/<wbr/><b>San Francisco Bicycle Rte 16</b>/<wbr/><b>Sutter St</b>',\n",
       "       'maneuver': 'turn-left',\n",
       "       'polyline': {'points': 'a|seFrjajVGY'},\n",
       "       'start_location': {'lat': 37.7902545, 'lng': -122.400585},\n",
       "       'travel_mode': 'BICYCLING'},\n",
       "      {'distance': {'text': '66 ft', 'value': 20},\n",
       "       'duration': {'text': '1 min', 'value': 4},\n",
       "       'end_location': {'lat': 37.7901244, 'lng': -122.4003502},\n",
       "       'html_instructions': 'Turn <b>right</b> toward <b>Market St</b>/<wbr/><b>San Francisco Bicycle Rte 11</b>/<wbr/><b>San Francisco Bicycle Rte 50</b>',\n",
       "       'maneuver': 'turn-right',\n",
       "       'polyline': {'points': 'i|seFxiajVBCBADCLEDC'},\n",
       "       'start_location': {'lat': 37.7902867, 'lng': -122.4004529},\n",
       "       'travel_mode': 'BICYCLING'},\n",
       "      {'distance': {'text': '440 ft', 'value': 134},\n",
       "       'duration': {'text': '1 min', 'value': 29},\n",
       "       'end_location': {'lat': 37.7892687, 'lng': -122.4014241},\n",
       "       'html_instructions': 'Turn <b>right</b> onto <b>Market St</b>/<wbr/><b>San Francisco Bicycle Rte 11</b>/<wbr/><b>San Francisco Bicycle Rte 50</b>',\n",
       "       'maneuver': 'turn-right',\n",
       "       'polyline': {'points': 'g{seFdiajVHJl@z@NP`@j@\\\\b@BFBDX\\\\'},\n",
       "       'start_location': {'lat': 37.7901244, 'lng': -122.4003502},\n",
       "       'travel_mode': 'BICYCLING'},\n",
       "      {'distance': {'text': '0.8 mi', 'value': 1356},\n",
       "       'duration': {'text': '6 mins', 'value': 368},\n",
       "       'end_location': {'lat': 37.7806303, 'lng': -122.3905427},\n",
       "       'html_instructions': 'Turn <b>left</b> onto <b>2nd St</b>/<wbr/><b>San Francisco Bicycle Rte 11</b><div style=\"font-size:0.9em\">Pass by Andreu World (on the left)</div>',\n",
       "       'maneuver': 'turn-left',\n",
       "       'polyline': {'points': '}useFzoajVf@o@p@aAhA_Bp@_AFGDIT[NSXa@j@u@hA{AfA{ALQZa@d@o@TYPUv@cAFMBE@Cb@i@`@k@z@iABE~@oAT[PUb@k@R[X]j@w@JKJOV]FKDE?AHMDG@??A@??AT[HKvAgBp@}@^o@f@q@d@k@T]LO\\\\e@PWz@kAf@q@X_@^g@j@w@RYFIDEHM'},\n",
       "       'start_location': {'lat': 37.7892687, 'lng': -122.4014241},\n",
       "       'travel_mode': 'BICYCLING'},\n",
       "      {'distance': {'text': '0.4 mi', 'value': 588},\n",
       "       'duration': {'text': '3 mins', 'value': 205},\n",
       "       'end_location': {'lat': 37.7768963, 'lng': -122.3952745},\n",
       "       'html_instructions': 'Turn <b>right</b> onto <b>San Francisco Bicycle Rte 36</b>/<wbr/><b>Townsend St</b>',\n",
       "       'maneuver': 'turn-right',\n",
       "       'polyline': {'points': '}_reFzk_jVh@v@j@t@FJpAbBBFxApBf@p@j@r@t@bA\\\\f@BDb@l@l@z@DFDDt@bAp@z@f@p@NTNT`@j@'},\n",
       "       'start_location': {'lat': 37.7806303, 'lng': -122.3905427},\n",
       "       'travel_mode': 'BICYCLING'},\n",
       "      {'distance': {'text': '312 ft', 'value': 95},\n",
       "       'duration': {'text': '1 min', 'value': 17},\n",
       "       'end_location': {'lat': 37.7762881, 'lng': -122.3945237},\n",
       "       'html_instructions': 'Turn <b>left</b><div style=\"font-size:0.9em\">Destination will be on the left</div>',\n",
       "       'maneuver': 'turn-left',\n",
       "       'polyline': {'points': 'shqeFli`jV\\\\a@Z_@V_@X_@LS'},\n",
       "       'start_location': {'lat': 37.7768963, 'lng': -122.3952745},\n",
       "       'travel_mode': 'BICYCLING'}],\n",
       "     'traffic_speed_entry': [],\n",
       "     'via_waypoint': []}],\n",
       "   'overview_polyline': {'points': 'cuteFzxajVOqBuANAGEcAI_BbGq@tFq@vIeAfAOGYBCHERIhBdC~@nAtEqGjGqIzDkF|EuG~EyG`@i@hCeDfAaBfB_CnCuDfBcCNStAlBvDhFfDpEzAvBtCvD^j@`@j@\\\\a@r@_Af@s@'},\n",
       "   'summary': 'San Francisco Bicycle Rte 11',\n",
       "   'warnings': [\"Bicycling directions are in beta. Use caution – This route may contain streets that aren't suited for bicycling.\"],\n",
       "   'waypoint_order': []}],\n",
       " 'status': 'OK'}"
      ]
     },
     "execution_count": 8,
     "metadata": {},
     "output_type": "execute_result"
    }
   ],
   "source": [
    "req.json()"
   ]
  },
  {
   "cell_type": "code",
   "execution_count": null,
   "id": "47d1b513",
   "metadata": {},
   "outputs": [],
   "source": []
  },
  {
   "cell_type": "code",
   "execution_count": null,
   "id": "1d737f36",
   "metadata": {},
   "outputs": [],
   "source": []
  }
 ],
 "metadata": {
  "kernelspec": {
   "display_name": "Python 3 (ipykernel)",
   "language": "python",
   "name": "python3"
  },
  "language_info": {
   "codemirror_mode": {
    "name": "ipython",
    "version": 3
   },
   "file_extension": ".py",
   "mimetype": "text/x-python",
   "name": "python",
   "nbconvert_exporter": "python",
   "pygments_lexer": "ipython3",
   "version": "3.9.12"
  }
 },
 "nbformat": 4,
 "nbformat_minor": 5
}
