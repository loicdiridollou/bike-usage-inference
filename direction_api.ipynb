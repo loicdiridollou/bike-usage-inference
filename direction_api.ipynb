{
 "cells": [
  {
   "cell_type": "code",
   "execution_count": 7,
   "id": "c6a4440b",
   "metadata": {},
   "outputs": [],
   "source": [
    "import yaml\n",
    "import requests\n",
    "import pandas as pd"
   ]
  },
  {
   "cell_type": "code",
   "execution_count": 8,
   "id": "d853a951",
   "metadata": {},
   "outputs": [],
   "source": [
    "API_KEY = yaml.full_load(open('creds.yaml', 'r'))['maps_api']"
   ]
  },
  {
   "cell_type": "code",
   "execution_count": 10,
   "id": "b0996713",
   "metadata": {},
   "outputs": [],
   "source": [
    "dd = requests.get('https://gbfs.baywheels.com/gbfs/en/station_information.json')\n",
    "stations = pd.DataFrame(dd.json()['data']['stations'])"
   ]
  },
  {
   "cell_type": "code",
   "execution_count": 23,
   "id": "676a4d66",
   "metadata": {},
   "outputs": [
    {
     "data": {
      "text/html": [
       "<div>\n",
       "<style scoped>\n",
       "    .dataframe tbody tr th:only-of-type {\n",
       "        vertical-align: middle;\n",
       "    }\n",
       "\n",
       "    .dataframe tbody tr th {\n",
       "        vertical-align: top;\n",
       "    }\n",
       "\n",
       "    .dataframe thead th {\n",
       "        text-align: right;\n",
       "    }\n",
       "</style>\n",
       "<table border=\"1\" class=\"dataframe\">\n",
       "  <thead>\n",
       "    <tr style=\"text-align: right;\">\n",
       "      <th></th>\n",
       "      <th>lon</th>\n",
       "      <th>legacy_id</th>\n",
       "      <th>region_id</th>\n",
       "      <th>electric_bike_surcharge_waiver</th>\n",
       "      <th>rental_uris</th>\n",
       "      <th>eightd_station_services</th>\n",
       "      <th>station_type</th>\n",
       "      <th>eightd_has_key_dispenser</th>\n",
       "      <th>station_id</th>\n",
       "      <th>rental_methods</th>\n",
       "      <th>short_name</th>\n",
       "      <th>capacity</th>\n",
       "      <th>has_kiosk</th>\n",
       "      <th>external_id</th>\n",
       "      <th>lat</th>\n",
       "      <th>name</th>\n",
       "    </tr>\n",
       "  </thead>\n",
       "  <tbody>\n",
       "    <tr>\n",
       "      <th>151</th>\n",
       "      <td>-122.394495</td>\n",
       "      <td>465</td>\n",
       "      <td>3</td>\n",
       "      <td>False</td>\n",
       "      <td>{'ios': 'https://sfo.lft.to/lastmile_qr_scan',...</td>\n",
       "      <td>[]</td>\n",
       "      <td>classic</td>\n",
       "      <td>False</td>\n",
       "      <td>a7da1857-747a-4507-9d8f-2a9f95f0babf</td>\n",
       "      <td>[KEY, CREDITCARD]</td>\n",
       "      <td>SF-J29-3</td>\n",
       "      <td>18</td>\n",
       "      <td>True</td>\n",
       "      <td>a7da1857-747a-4507-9d8f-2a9f95f0babf</td>\n",
       "      <td>37.776311</td>\n",
       "      <td>San Francisco Caltrain Station (King St at 4th...</td>\n",
       "    </tr>\n",
       "    <tr>\n",
       "      <th>225</th>\n",
       "      <td>-122.391885</td>\n",
       "      <td>130</td>\n",
       "      <td>3</td>\n",
       "      <td>False</td>\n",
       "      <td>{'ios': 'https://sfo.lft.to/lastmile_qr_scan',...</td>\n",
       "      <td>[]</td>\n",
       "      <td>classic</td>\n",
       "      <td>False</td>\n",
       "      <td>e7691d93-eed6-4388-b681-00ae0b455d23</td>\n",
       "      <td>[KEY, CREDITCARD]</td>\n",
       "      <td>SF-P30</td>\n",
       "      <td>35</td>\n",
       "      <td>True</td>\n",
       "      <td>e7691d93-eed6-4388-b681-00ae0b455d23</td>\n",
       "      <td>37.757704</td>\n",
       "      <td>22nd St Caltrain Station</td>\n",
       "    </tr>\n",
       "    <tr>\n",
       "      <th>398</th>\n",
       "      <td>-122.395282</td>\n",
       "      <td>30</td>\n",
       "      <td>3</td>\n",
       "      <td>False</td>\n",
       "      <td>{'ios': 'https://sfo.lft.to/lastmile_qr_scan',...</td>\n",
       "      <td>[]</td>\n",
       "      <td>classic</td>\n",
       "      <td>False</td>\n",
       "      <td>ea11aa7f-c070-46a4-a074-70604340efa2</td>\n",
       "      <td>[KEY, CREDITCARD]</td>\n",
       "      <td>SF-J29</td>\n",
       "      <td>19</td>\n",
       "      <td>True</td>\n",
       "      <td>ea11aa7f-c070-46a4-a074-70604340efa2</td>\n",
       "      <td>37.776598</td>\n",
       "      <td>San Francisco Caltrain (Townsend St at 4th St)</td>\n",
       "    </tr>\n",
       "  </tbody>\n",
       "</table>\n",
       "</div>"
      ],
      "text/plain": [
       "            lon legacy_id region_id  electric_bike_surcharge_waiver  \\\n",
       "151 -122.394495       465         3                           False   \n",
       "225 -122.391885       130         3                           False   \n",
       "398 -122.395282        30         3                           False   \n",
       "\n",
       "                                           rental_uris  \\\n",
       "151  {'ios': 'https://sfo.lft.to/lastmile_qr_scan',...   \n",
       "225  {'ios': 'https://sfo.lft.to/lastmile_qr_scan',...   \n",
       "398  {'ios': 'https://sfo.lft.to/lastmile_qr_scan',...   \n",
       "\n",
       "    eightd_station_services station_type  eightd_has_key_dispenser  \\\n",
       "151                      []      classic                     False   \n",
       "225                      []      classic                     False   \n",
       "398                      []      classic                     False   \n",
       "\n",
       "                               station_id     rental_methods short_name  \\\n",
       "151  a7da1857-747a-4507-9d8f-2a9f95f0babf  [KEY, CREDITCARD]   SF-J29-3   \n",
       "225  e7691d93-eed6-4388-b681-00ae0b455d23  [KEY, CREDITCARD]     SF-P30   \n",
       "398  ea11aa7f-c070-46a4-a074-70604340efa2  [KEY, CREDITCARD]     SF-J29   \n",
       "\n",
       "     capacity  has_kiosk                           external_id        lat  \\\n",
       "151        18       True  a7da1857-747a-4507-9d8f-2a9f95f0babf  37.776311   \n",
       "225        35       True  e7691d93-eed6-4388-b681-00ae0b455d23  37.757704   \n",
       "398        19       True  ea11aa7f-c070-46a4-a074-70604340efa2  37.776598   \n",
       "\n",
       "                                                  name  \n",
       "151  San Francisco Caltrain Station (King St at 4th...  \n",
       "225                           22nd St Caltrain Station  \n",
       "398     San Francisco Caltrain (Townsend St at 4th St)  "
      ]
     },
     "execution_count": 23,
     "metadata": {},
     "output_type": "execute_result"
    }
   ],
   "source": [
    "stations.loc[stations['name'].str.contains('Caltrain')]"
   ]
  },
  {
   "cell_type": "code",
   "execution_count": 29,
   "id": "3893d653",
   "metadata": {},
   "outputs": [],
   "source": [
    "lat1, lon1 = stations.loc[stations['name'] == 'Commercial St at Montgomery St'][['lat', 'lon']].iloc[0]"
   ]
  },
  {
   "cell_type": "code",
   "execution_count": 30,
   "id": "1608d62d",
   "metadata": {},
   "outputs": [],
   "source": [
    "lat2, lon2 = stations.loc[stations['name'] == 'San Francisco Caltrain Station (King St at 4th St)'][['lat', 'lon']].iloc[0]"
   ]
  },
  {
   "cell_type": "code",
   "execution_count": 31,
   "id": "f6a4bd33",
   "metadata": {},
   "outputs": [],
   "source": [
    "req = requests.get(\"https://maps.googleapis.com/maps/api/directions/json?avoid=highways&destination={},{}&mode=bicycling&origin={},{}&key={}\".format(API_KEY, lat1, lon1, lat2, lon2))"
   ]
  },
  {
   "cell_type": "code",
   "execution_count": 32,
   "id": "601eea76",
   "metadata": {
    "scrolled": false
   },
   "outputs": [
    {
     "data": {
      "text/plain": [
       "{'error_message': 'The provided API key is invalid. ',\n",
       " 'routes': [],\n",
       " 'status': 'REQUEST_DENIED'}"
      ]
     },
     "execution_count": 32,
     "metadata": {},
     "output_type": "execute_result"
    }
   ],
   "source": [
    "req.json()"
   ]
  },
  {
   "cell_type": "code",
   "execution_count": null,
   "id": "47d1b513",
   "metadata": {},
   "outputs": [],
   "source": []
  },
  {
   "cell_type": "code",
   "execution_count": null,
   "id": "1d737f36",
   "metadata": {},
   "outputs": [],
   "source": []
  }
 ],
 "metadata": {
  "kernelspec": {
   "display_name": "Python 3 (ipykernel)",
   "language": "python",
   "name": "python3"
  },
  "language_info": {
   "codemirror_mode": {
    "name": "ipython",
    "version": 3
   },
   "file_extension": ".py",
   "mimetype": "text/x-python",
   "name": "python",
   "nbconvert_exporter": "python",
   "pygments_lexer": "ipython3",
   "version": "3.9.12"
  }
 },
 "nbformat": 4,
 "nbformat_minor": 5
}
