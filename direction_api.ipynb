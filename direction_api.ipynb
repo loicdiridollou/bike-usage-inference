{
 "cells": [
  {
   "cell_type": "code",
   "execution_count": 4,
   "id": "c6a4440b",
   "metadata": {},
   "outputs": [],
   "source": [
    "import yaml\n",
    "import requests\n",
    "import pandas as pd"
   ]
  },
  {
   "cell_type": "code",
   "execution_count": 5,
   "id": "d853a951",
   "metadata": {},
   "outputs": [],
   "source": [
    "API_KEY = yaml.full_load(open('creds.yaml', 'r'))['maps_api']"
   ]
  },
  {
   "cell_type": "code",
   "execution_count": 6,
   "id": "b0996713",
   "metadata": {},
   "outputs": [],
   "source": [
    "dd = requests.get('https://gbfs.baywheels.com/gbfs/en/station_information.json')\n",
    "stations = pd.DataFrame(dd.json()['data']['stations'])"
   ]
  },
  {
   "cell_type": "code",
   "execution_count": 7,
   "id": "676a4d66",
   "metadata": {},
   "outputs": [
    {
     "data": {
      "text/html": [
       "<div>\n",
       "<style scoped>\n",
       "    .dataframe tbody tr th:only-of-type {\n",
       "        vertical-align: middle;\n",
       "    }\n",
       "\n",
       "    .dataframe tbody tr th {\n",
       "        vertical-align: top;\n",
       "    }\n",
       "\n",
       "    .dataframe thead th {\n",
       "        text-align: right;\n",
       "    }\n",
       "</style>\n",
       "<table border=\"1\" class=\"dataframe\">\n",
       "  <thead>\n",
       "    <tr style=\"text-align: right;\">\n",
       "      <th></th>\n",
       "      <th>lon</th>\n",
       "      <th>legacy_id</th>\n",
       "      <th>region_id</th>\n",
       "      <th>electric_bike_surcharge_waiver</th>\n",
       "      <th>rental_uris</th>\n",
       "      <th>eightd_station_services</th>\n",
       "      <th>station_type</th>\n",
       "      <th>eightd_has_key_dispenser</th>\n",
       "      <th>station_id</th>\n",
       "      <th>rental_methods</th>\n",
       "      <th>short_name</th>\n",
       "      <th>capacity</th>\n",
       "      <th>has_kiosk</th>\n",
       "      <th>external_id</th>\n",
       "      <th>lat</th>\n",
       "      <th>name</th>\n",
       "    </tr>\n",
       "  </thead>\n",
       "  <tbody>\n",
       "    <tr>\n",
       "      <th>88</th>\n",
       "      <td>-122.394495</td>\n",
       "      <td>465</td>\n",
       "      <td>3</td>\n",
       "      <td>False</td>\n",
       "      <td>{'ios': 'https://sfo.lft.to/lastmile_qr_scan',...</td>\n",
       "      <td>[]</td>\n",
       "      <td>classic</td>\n",
       "      <td>False</td>\n",
       "      <td>a7da1857-747a-4507-9d8f-2a9f95f0babf</td>\n",
       "      <td>[KEY, CREDITCARD]</td>\n",
       "      <td>SF-J29-3</td>\n",
       "      <td>18</td>\n",
       "      <td>True</td>\n",
       "      <td>a7da1857-747a-4507-9d8f-2a9f95f0babf</td>\n",
       "      <td>37.776311</td>\n",
       "      <td>San Francisco Caltrain Station (King St at 4th...</td>\n",
       "    </tr>\n",
       "    <tr>\n",
       "      <th>186</th>\n",
       "      <td>-122.391885</td>\n",
       "      <td>130</td>\n",
       "      <td>3</td>\n",
       "      <td>False</td>\n",
       "      <td>{'ios': 'https://sfo.lft.to/lastmile_qr_scan',...</td>\n",
       "      <td>[]</td>\n",
       "      <td>classic</td>\n",
       "      <td>False</td>\n",
       "      <td>e7691d93-eed6-4388-b681-00ae0b455d23</td>\n",
       "      <td>[KEY, CREDITCARD]</td>\n",
       "      <td>SF-P30</td>\n",
       "      <td>35</td>\n",
       "      <td>True</td>\n",
       "      <td>e7691d93-eed6-4388-b681-00ae0b455d23</td>\n",
       "      <td>37.757704</td>\n",
       "      <td>22nd St Caltrain Station</td>\n",
       "    </tr>\n",
       "    <tr>\n",
       "      <th>360</th>\n",
       "      <td>-122.395282</td>\n",
       "      <td>30</td>\n",
       "      <td>3</td>\n",
       "      <td>False</td>\n",
       "      <td>{'ios': 'https://sfo.lft.to/lastmile_qr_scan',...</td>\n",
       "      <td>[]</td>\n",
       "      <td>classic</td>\n",
       "      <td>False</td>\n",
       "      <td>ea11aa7f-c070-46a4-a074-70604340efa2</td>\n",
       "      <td>[KEY, CREDITCARD]</td>\n",
       "      <td>SF-J29</td>\n",
       "      <td>19</td>\n",
       "      <td>True</td>\n",
       "      <td>ea11aa7f-c070-46a4-a074-70604340efa2</td>\n",
       "      <td>37.776598</td>\n",
       "      <td>San Francisco Caltrain (Townsend St at 4th St)</td>\n",
       "    </tr>\n",
       "  </tbody>\n",
       "</table>\n",
       "</div>"
      ],
      "text/plain": [
       "            lon legacy_id region_id  electric_bike_surcharge_waiver  \\\n",
       "88  -122.394495       465         3                           False   \n",
       "186 -122.391885       130         3                           False   \n",
       "360 -122.395282        30         3                           False   \n",
       "\n",
       "                                           rental_uris  \\\n",
       "88   {'ios': 'https://sfo.lft.to/lastmile_qr_scan',...   \n",
       "186  {'ios': 'https://sfo.lft.to/lastmile_qr_scan',...   \n",
       "360  {'ios': 'https://sfo.lft.to/lastmile_qr_scan',...   \n",
       "\n",
       "    eightd_station_services station_type  eightd_has_key_dispenser  \\\n",
       "88                       []      classic                     False   \n",
       "186                      []      classic                     False   \n",
       "360                      []      classic                     False   \n",
       "\n",
       "                               station_id     rental_methods short_name  \\\n",
       "88   a7da1857-747a-4507-9d8f-2a9f95f0babf  [KEY, CREDITCARD]   SF-J29-3   \n",
       "186  e7691d93-eed6-4388-b681-00ae0b455d23  [KEY, CREDITCARD]     SF-P30   \n",
       "360  ea11aa7f-c070-46a4-a074-70604340efa2  [KEY, CREDITCARD]     SF-J29   \n",
       "\n",
       "     capacity  has_kiosk                           external_id        lat  \\\n",
       "88         18       True  a7da1857-747a-4507-9d8f-2a9f95f0babf  37.776311   \n",
       "186        35       True  e7691d93-eed6-4388-b681-00ae0b455d23  37.757704   \n",
       "360        19       True  ea11aa7f-c070-46a4-a074-70604340efa2  37.776598   \n",
       "\n",
       "                                                  name  \n",
       "88   San Francisco Caltrain Station (King St at 4th...  \n",
       "186                           22nd St Caltrain Station  \n",
       "360     San Francisco Caltrain (Townsend St at 4th St)  "
      ]
     },
     "execution_count": 7,
     "metadata": {},
     "output_type": "execute_result"
    }
   ],
   "source": [
    "stations.loc[stations['name'].str.contains('Caltrain')]"
   ]
  },
  {
   "cell_type": "code",
   "execution_count": 8,
   "id": "3893d653",
   "metadata": {},
   "outputs": [],
   "source": [
    "lat1, lon1 = stations.loc[stations['name'] == 'Commercial St at Montgomery St'][['lat', 'lon']].iloc[0]"
   ]
  },
  {
   "cell_type": "code",
   "execution_count": 9,
   "id": "1608d62d",
   "metadata": {},
   "outputs": [],
   "source": [
    "lat2, lon2 = stations.loc[stations['name'] == 'San Francisco Caltrain Station (King St at 4th St)'][['lat', 'lon']].iloc[0]"
   ]
  },
  {
   "cell_type": "code",
   "execution_count": 10,
   "id": "f6a4bd33",
   "metadata": {},
   "outputs": [],
   "source": [
    "req = requests.get(\"https://maps.googleapis.com/maps/api/directions/json?avoid=highways&destination={},{}&mode=bicycling&origin={},{}&key={}\".format(lat1, lon1, lat2, lon2, API_KEY))"
   ]
  },
  {
   "cell_type": "code",
   "execution_count": 11,
   "id": "601eea76",
   "metadata": {
    "scrolled": false
   },
   "outputs": [],
   "source": [
    "res = req.json()"
   ]
  },
  {
   "cell_type": "code",
   "execution_count": 12,
   "id": "47d1b513",
   "metadata": {},
   "outputs": [
    {
     "data": {
      "text/plain": [
       "{'geocoded_waypoints': [{'geocoder_status': 'OK',\n",
       "   'place_id': 'ChIJiZsGldZ_j4ARSAUO2zvLtxM',\n",
       "   'types': ['establishment', 'point_of_interest']},\n",
       "  {'geocoder_status': 'OK',\n",
       "   'place_id': 'ChIJAyk-84qAhYARoYww6NIvE6A',\n",
       "   'types': ['establishment', 'point_of_interest']}],\n",
       " 'routes': [{'bounds': {'northeast': {'lat': 37.7968231, 'lng': -122.3876902},\n",
       "    'southwest': {'lat': 37.7762883, 'lng': -122.4028589}},\n",
       "   'copyrights': 'Map data ©2022 Google',\n",
       "   'legs': [{'distance': {'text': '2.4 mi', 'value': 3820},\n",
       "     'duration': {'text': '15 mins', 'value': 917},\n",
       "     'end_address': 'Commercial St at Montgomery St, San Francisco, CA 94111, USA',\n",
       "     'end_location': {'lat': 37.7942628, 'lng': -122.4028589},\n",
       "     'start_address': 'San Francisco Caltrain Station (King St at 4th St), San Francisco, CA 94107, USA',\n",
       "     'start_location': {'lat': 37.7762883, 'lng': -122.394524},\n",
       "     'steps': [{'distance': {'text': '308 ft', 'value': 94},\n",
       "       'duration': {'text': '1 min', 'value': 17},\n",
       "       'end_location': {'lat': 37.7768963, 'lng': -122.3952745},\n",
       "       'html_instructions': 'Head <b>northwest</b> toward <b>San Francisco Bicycle Rte 36</b>/<wbr/><b>Townsend St</b>',\n",
       "       'polyline': {'points': 'ydqeFvd`jVMRY^W^[^]`@'},\n",
       "       'start_location': {'lat': 37.7762883, 'lng': -122.394524},\n",
       "       'travel_mode': 'BICYCLING'},\n",
       "      {'distance': {'text': '0.4 mi', 'value': 588},\n",
       "       'duration': {'text': '4 mins', 'value': 220},\n",
       "       'end_location': {'lat': 37.7806303, 'lng': -122.3905427},\n",
       "       'html_instructions': 'Turn <b>right</b> onto <b>San Francisco Bicycle Rte 36</b>/<wbr/><b>Townsend St</b>',\n",
       "       'maneuver': 'turn-right',\n",
       "       'polyline': {'points': 'shqeFli`jVa@k@OUOUg@q@q@{@u@cAEEEGm@{@c@m@CE]g@u@cAk@s@g@q@yAqBCGqAcBGKk@u@i@w@'},\n",
       "       'start_location': {'lat': 37.7768963, 'lng': -122.3952745},\n",
       "       'travel_mode': 'BICYCLING'},\n",
       "      {'distance': {'text': '436 ft', 'value': 133},\n",
       "       'duration': {'text': '1 min', 'value': 64},\n",
       "       'end_location': {'lat': 37.7797849, 'lng': -122.3894709},\n",
       "       'html_instructions': 'Turn <b>right</b> onto <b>2nd St</b>/<wbr/><b>San Francisco Bicycle Rte 11</b><div style=\"font-size:0.9em\">Continue to follow San Francisco Bicycle Rte 11</div>',\n",
       "       'maneuver': 'turn-right',\n",
       "       'polyline': {'points': '}_reFzk_jVHMr@aABCLQh@s@NQJODEBEHM'},\n",
       "       'start_location': {'lat': 37.7806303, 'lng': -122.3905427},\n",
       "       'travel_mode': 'BICYCLING'},\n",
       "      {'distance': {'text': '1.3 mi', 'value': 2158},\n",
       "       'duration': {'text': '7 mins', 'value': 396},\n",
       "       'end_location': {'lat': 37.7968231, 'lng': -122.3953332},\n",
       "       'html_instructions': 'Turn <b>left</b> onto <b>King St</b>/<wbr/><b>San Francisco Bicycle Rte 5</b><div style=\"font-size:0.9em\">Continue to follow San Francisco Bicycle Rte 5</div>',\n",
       "       'maneuver': 'turn-left',\n",
       "       'polyline': {'points': 'szqeFde_jV[a@_AoACEMMKKGGKIMKGEKGOKAAIEECECGCOGQGKCA@q@MG?CAIAm@CMAKCGAq@A]Aa@?qBISAYCi@CSA_CIoAEYC_DIk@Ca@C]AOAeBEg@CK?[CA?i@AKAa@?S@U?U@Q@]DcBVy@Nm@PWJMFULWPUPe@h@QV_@b@sAfBaApASVQL[VMHMHIFKDMFKDOFKD{@Z]NOFWNm@b@ONUVKLi@p@i@r@yAfBGFWX}@`A}@`AMPEDKLQNWXMLQNURC@_@Z[X[ZSNQNON]ZGFIFa@`@u@p@m@h@EDIF'},\n",
       "       'start_location': {'lat': 37.7797849, 'lng': -122.3894709},\n",
       "       'travel_mode': 'BICYCLING'},\n",
       "      {'distance': {'text': '0.4 mi', 'value': 574},\n",
       "       'duration': {'text': '3 mins', 'value': 170},\n",
       "       'end_location': {'lat': 37.7957404, 'lng': -122.4016876},\n",
       "       'html_instructions': 'Turn <b>left</b> onto <b>Washington St</b>',\n",
       "       'maneuver': 'turn-left',\n",
       "       'polyline': {'points': 'ceueFxi`jVXv@FP@B@D@H@FDp@@N@VBZBJBNJj@DV@THVVhDFf@JpAFr@?@Dn@@@HxABXRbDLtBBZ@XF|@'},\n",
       "       'start_location': {'lat': 37.7968231, 'lng': -122.3953332},\n",
       "       'travel_mode': 'BICYCLING'},\n",
       "      {'distance': {'text': '482 ft', 'value': 147},\n",
       "       'duration': {'text': '1 min', 'value': 27},\n",
       "       'end_location': {'lat': 37.794436, 'lng': -122.4014404},\n",
       "       'html_instructions': 'Turn <b>left</b> onto <b>San Francisco Bicycle Rte 11</b>/<wbr/><b>Sansome St</b>',\n",
       "       'maneuver': 'turn-left',\n",
       "       'polyline': {'points': 'k~teFpqajVd@Gn@GxASrAM'},\n",
       "       'start_location': {'lat': 37.7957404, 'lng': -122.4016876},\n",
       "       'travel_mode': 'BICYCLING'},\n",
       "      {'distance': {'text': '413 ft', 'value': 126},\n",
       "       'duration': {'text': '1 min', 'value': 23},\n",
       "       'end_location': {'lat': 37.7942628, 'lng': -122.4028589},\n",
       "       'html_instructions': 'Turn <b>right</b> onto <b>Commercial St</b><div style=\"font-size:0.9em\">Turn is not allowed Mon–Fri 11:00 AM – 2:00 PM</div>',\n",
       "       'maneuver': 'turn-right',\n",
       "       'polyline': {'points': 'gvteF~oajVBR@`@@F?JHpA@LHpAD^'},\n",
       "       'start_location': {'lat': 37.794436, 'lng': -122.4014404},\n",
       "       'travel_mode': 'BICYCLING'}],\n",
       "     'traffic_speed_entry': [],\n",
       "     'via_waypoint': []}],\n",
       "   'overview_polyline': {'points': 'ydqeFvd`jV{ArB]`@a@k@_@k@uCwD{AwBgDqEwDiFuAmB|@oAjA{A^i@mBeCm@i@e@[]Qa@OMAgAQ{@ESEcFMkBKeOi@uDMyACqADaC\\\\gB`@e@Rm@^UPe@h@q@z@uCxDe@d@aAr@u@ZuBx@eAr@e@f@yDzEmEzEiD~C}DnDs@n@IFXv@HTBNJ`BFf@Nz@Fl@HVVhDRxBFt@TdDf@nIF|@d@GhC[rAMBRBh@T|DD^'},\n",
       "   'summary': 'San Francisco Bicycle Rte 5',\n",
       "   'warnings': [\"Bicycling directions are in beta. Use caution – This route may contain streets that aren't suited for bicycling.\"],\n",
       "   'waypoint_order': []}],\n",
       " 'status': 'OK'}"
      ]
     },
     "execution_count": 12,
     "metadata": {},
     "output_type": "execute_result"
    }
   ],
   "source": [
    "res"
   ]
  },
  {
   "cell_type": "code",
   "execution_count": 13,
   "id": "d3b3ab77",
   "metadata": {},
   "outputs": [
    {
     "data": {
      "text/plain": [
       "dict_keys(['geocoded_waypoints', 'routes', 'status'])"
      ]
     },
     "execution_count": 13,
     "metadata": {},
     "output_type": "execute_result"
    }
   ],
   "source": [
    "res.keys()"
   ]
  },
  {
   "cell_type": "code",
   "execution_count": 14,
   "id": "a9e59733",
   "metadata": {},
   "outputs": [
    {
     "data": {
      "text/plain": [
       "'0:15:17'"
      ]
     },
     "execution_count": 14,
     "metadata": {},
     "output_type": "execute_result"
    }
   ],
   "source": [
    "import datetime as dt\n",
    "\n",
    "str(dt.timedelta(seconds=res['routes'][0]['legs'][0]['duration']['value']))"
   ]
  },
  {
   "cell_type": "code",
   "execution_count": 33,
   "id": "2ed41ec0",
   "metadata": {},
   "outputs": [],
   "source": [
    "def convert_sec_to_time(num_sec):\n",
    "    return str(dt.timedelta(seconds=res['routes'][0]['legs'][0]['duration']['value']))\n",
    "\n",
    "\n",
    "def get_travel_time(req):\n",
    "    return req['routes'][0]['legs'][0]['duration']['value']\n",
    "\n",
    "\n",
    "def get_stations_coord(name, stations_df):\n",
    "    if name in stations_df['name'].values:\n",
    "        return stations_df.loc[stations_df['name'] == name][['lat', 'lon']].iloc[0]\n",
    "    return None"
   ]
  },
  {
   "cell_type": "code",
   "execution_count": 34,
   "id": "af62ef23",
   "metadata": {},
   "outputs": [],
   "source": [
    "lat, lon = get_stations_coord('Commercial St at Montgomery St', stations)"
   ]
  },
  {
   "cell_type": "code",
   "execution_count": 35,
   "id": "e836d442",
   "metadata": {},
   "outputs": [
    {
     "data": {
      "text/plain": [
       "37.7942465"
      ]
     },
     "execution_count": 35,
     "metadata": {},
     "output_type": "execute_result"
    }
   ],
   "source": [
    "lat"
   ]
  },
  {
   "cell_type": "code",
   "execution_count": 36,
   "id": "0ec3736b",
   "metadata": {},
   "outputs": [
    {
     "data": {
      "text/plain": [
       "-122.402855"
      ]
     },
     "execution_count": 36,
     "metadata": {},
     "output_type": "execute_result"
    }
   ],
   "source": [
    "lon"
   ]
  },
  {
   "cell_type": "code",
   "execution_count": null,
   "id": "036f7cbc",
   "metadata": {},
   "outputs": [],
   "source": []
  }
 ],
 "metadata": {
  "kernelspec": {
   "display_name": "Python 3 (ipykernel)",
   "language": "python",
   "name": "python3"
  },
  "language_info": {
   "codemirror_mode": {
    "name": "ipython",
    "version": 3
   },
   "file_extension": ".py",
   "mimetype": "text/x-python",
   "name": "python",
   "nbconvert_exporter": "python",
   "pygments_lexer": "ipython3",
   "version": "3.9.12"
  }
 },
 "nbformat": 4,
 "nbformat_minor": 5
}
