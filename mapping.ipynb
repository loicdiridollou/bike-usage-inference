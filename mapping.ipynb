{
 "cells": [
  {
   "cell_type": "markdown",
   "id": "bc93609f",
   "metadata": {},
   "source": [
    "# Plotting the station on a map"
   ]
  },
  {
   "cell_type": "markdown",
   "id": "accd1f73",
   "metadata": {},
   "source": [
    "## Python version"
   ]
  },
  {
   "cell_type": "code",
   "execution_count": 1,
   "id": "af397650",
   "metadata": {},
   "outputs": [],
   "source": [
    "import sys"
   ]
  },
  {
   "cell_type": "code",
   "execution_count": 3,
   "id": "4a43f276",
   "metadata": {},
   "outputs": [
    {
     "data": {
      "text/plain": [
       "'3.8.12 | packaged by conda-forge | (default, Oct 12 2021, 21:59:51) \\n[GCC 9.4.0]'"
      ]
     },
     "execution_count": 3,
     "metadata": {},
     "output_type": "execute_result"
    }
   ],
   "source": [
    "sys.version"
   ]
  },
  {
   "cell_type": "markdown",
   "id": "fd796eb2",
   "metadata": {},
   "source": [
    "## Import packages and data"
   ]
  },
  {
   "cell_type": "code",
   "execution_count": 5,
   "id": "ba2d3bdd",
   "metadata": {},
   "outputs": [],
   "source": [
    "import pandas as pd\n",
    "import requests"
   ]
  },
  {
   "cell_type": "code",
   "execution_count": 11,
   "id": "3ccff746",
   "metadata": {},
   "outputs": [],
   "source": [
    "url = 'https://gbfs.baywheels.com/gbfs/en/station_information.json'\n",
    "req = requests.get(url)\n"
   ]
  },
  {
   "cell_type": "code",
   "execution_count": 16,
   "id": "f3fe45a6",
   "metadata": {},
   "outputs": [],
   "source": [
    "df = pd.DataFrame(req.json()['data']['stations']).drop(columns=['rental_uris'])"
   ]
  },
  {
   "cell_type": "code",
   "execution_count": 17,
   "id": "7f66a60e",
   "metadata": {},
   "outputs": [
    {
     "data": {
      "text/plain": [
       "Index(['electric_bike_surcharge_waiver', 'eightd_has_key_dispenser',\n",
       "       'capacity', 'legacy_id', 'eightd_station_services', 'station_type',\n",
       "       'has_kiosk', 'lon', 'external_id', 'station_id', 'short_name', 'name',\n",
       "       'region_id', 'rental_methods', 'lat'],\n",
       "      dtype='object')"
      ]
     },
     "execution_count": 17,
     "metadata": {},
     "output_type": "execute_result"
    }
   ],
   "source": [
    "df.columns"
   ]
  },
  {
   "cell_type": "code",
   "execution_count": null,
   "id": "5e3aba2c",
   "metadata": {},
   "outputs": [],
   "source": []
  }
 ],
 "metadata": {
  "kernelspec": {
   "display_name": "conda_tensorflow2_p38",
   "language": "python",
   "name": "conda_tensorflow2_p38"
  },
  "language_info": {
   "codemirror_mode": {
    "name": "ipython",
    "version": 3
   },
   "file_extension": ".py",
   "mimetype": "text/x-python",
   "name": "python",
   "nbconvert_exporter": "python",
   "pygments_lexer": "ipython3",
   "version": "3.8.12"
  }
 },
 "nbformat": 4,
 "nbformat_minor": 5
}
